{
 "cells": [
  {
   "cell_type": "code",
   "execution_count": null,
   "metadata": {},
   "outputs": [],
   "source": [
    "from dataclasses import dataclass\n",
    "import numpy as np\n",
    "from mcc import Contract, ResolvableContract, EuropeanOption, Zero, One, Give, Scale, And, Or, Until, KonstFloat, FX, GeometricBrownianMotion"
   ]
  },
  {
   "cell_type": "code",
   "execution_count": null,
   "metadata": {},
   "outputs": [],
   "source": [
    "@dataclass\n",
    "class FxCall(ResolvableContract):\n",
    "    maturity: np.datetime64\n",
    "    notional: float\n",
    "    strike: float\n",
    "    base_currency: str\n",
    "    counter_currency: str\n",
    "    \n",
    "    def resolve(self) -> Contract:\n",
    "        fw = And(Scale(KonstFloat(self.strike), One(self.counter_currency)), Give(One(self.base_currency)))\n",
    "        opt = EuropeanOption(self.maturity, fw)\n",
    "        return Scale(KonstFloat(self.notional), opt.resolve())"
   ]
  },
  {
   "cell_type": "code",
   "execution_count": 3,
   "metadata": {},
   "outputs": [],
   "source": [
    "maturity = np.datetime64(\"2021-06-01\")\n",
    "notional = 10000000\n",
    "strike = 1.10\n",
    "base_currency = \"EUR\"\n",
    "counter_currency = \"USD\""
   ]
  },
  {
   "cell_type": "code",
   "execution_count": 4,
   "metadata": {},
   "outputs": [
    {
     "data": {
      "text/plain": [
       "Scale(observable=KonstFloat(constant=10000000), contract=When(observable=At(date=numpy.datetime64('2021-06-01')), contract=Or(contract1=And(contract1=Scale(observable=KonstFloat(constant=1.1), contract=One(currency='USD')), contract2=Give(contract=One(currency='EUR'))), contract2=Zero())))"
      ]
     },
     "execution_count": 4,
     "metadata": {},
     "output_type": "execute_result"
    }
   ],
   "source": [
    "fxcall = FxCall(maturity, notional, strike, base_currency, counter_currency)\n",
    "fxcall.resolve()"
   ]
  }
 ],
 "metadata": {
  "kernelspec": {
   "display_name": "Python 3",
   "language": "python",
   "name": "python3"
  },
  "language_info": {
   "codemirror_mode": {
    "name": "ipython",
    "version": 3
   },
   "file_extension": ".py",
   "mimetype": "text/x-python",
   "name": "python",
   "nbconvert_exporter": "python",
   "pygments_lexer": "ipython3",
   "version": "3.8.5"
  }
 },
 "nbformat": 4,
 "nbformat_minor": 4
}
