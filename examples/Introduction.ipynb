{
 "cells": [
  {
   "cell_type": "markdown",
   "id": "8e266048-f06e-405b-bd85-6a245ee17f17",
   "metadata": {
    "tags": []
   },
   "source": [
    "# Introduction to Monte Carlo Contracs\n",
    "\n",
    "Composable financial contracts with Monte Carlo valuation.\n",
    "This Python library employs ideas from [How to Write a Financial Contract](https://citeseerx.ist.psu.edu/viewdoc/summary?doi=10.1.1.14.7885) by S. L. Peyton Jones and J-M. Eber.\n",
    "However, the implementation is not based on functional programming but rather using an object oriented approach.\n",
    "Also, this implementation is tailored towards Monte Carlo based cashflow generation whereas the paper favours more general methods."
   ]
  },
  {
   "cell_type": "code",
   "execution_count": 1,
   "id": "cf9bccb5-d383-43b8-9648-b10cc255c650",
   "metadata": {
    "tags": []
   },
   "outputs": [],
   "source": [
    "import mcc"
   ]
  },
  {
   "cell_type": "markdown",
   "id": "90358130-3810-462e-a1b4-3120d590e4b4",
   "metadata": {},
   "source": [
    "## Displaying Help"
   ]
  },
  {
   "cell_type": "code",
   "execution_count": 2,
   "id": "08f40f76-8364-4c0a-9e76-7f741f096634",
   "metadata": {
    "tags": []
   },
   "outputs": [],
   "source": [
    "from mcc import _contracts_table, _boolean_observables_table, _float_observables_table"
   ]
  },
  {
   "cell_type": "markdown",
   "id": "bab8252e-4a1d-4ff2-8649-c50e183aaa19",
   "metadata": {},
   "source": [
    "### Print Markdown Tables in Jupyter Notebooks"
   ]
  },
  {
   "cell_type": "code",
   "execution_count": 3,
   "id": "190d440d-015c-4c83-8ca0-704eb295858b",
   "metadata": {
    "tags": []
   },
   "outputs": [],
   "source": [
    "from IPython.display import display, Markdown"
   ]
  },
  {
   "cell_type": "code",
   "execution_count": 4,
   "id": "70eb6a68-3d87-4c50-82dd-b0c9df613e57",
   "metadata": {},
   "outputs": [
    {
     "data": {
      "text/markdown": [
       "| Contract  | Description                                                                                                                                            |\n",
       "|-----------|--------------------------------------------------------------------------------------------------------------------------------------------------------|\n",
       "| Contract  | Abstract base class for all contracts                                                                                                                  |\n",
       "| Zero      | Neither receive nor pay anything                                                                                                                       |\n",
       "| One       | Receive one unit of currency at acquisition                                                                                                            |\n",
       "| Give      | Receive all obligations of the underlying contract and pay all rights, i.e. invert the underlying contract                                             |\n",
       "| And       | Obtain rights and obligations of all underlying contracts                                                                                              |\n",
       "| Or        | Choose at acquisition between the underlying contracts                                                                                                 |\n",
       "| Cond      | If observable is True at acquisition, obtain contract1, otherwise contract2                                                                            |\n",
       "| Scale     | Same as the underling contract, but all payments scaled by the value of observable at acquisition                                                      |\n",
       "| When      | Obtain the underlying contract as soon as observable becomes True after acquisition                                                                    |\n",
       "| Delay     | Obtain the underlying contract and delay all payments to first occurence of observable.                                                                |\n",
       "| Anytime   | At any point in time after acquisition when observable is True, choose whether to obtain the underlying contract or not; can be exercised only once    |\n",
       "| Until     | Obtain the underlying contract, but as soon as observable becomes True after acquisition all following payments are nullified                          |\n",
       "| Exchange  | Exchange cashflows resulting from contract to currency at the current spot rate                                                                        |"
      ],
      "text/plain": [
       "<IPython.core.display.Markdown object>"
      ]
     },
     "execution_count": 4,
     "metadata": {},
     "output_type": "execute_result"
    }
   ],
   "source": [
    "Markdown(_contracts_table(descr_col_width=150))"
   ]
  },
  {
   "cell_type": "code",
   "execution_count": 5,
   "id": "54522323-b2e3-4786-9297-f1d91f4facae",
   "metadata": {
    "tags": []
   },
   "outputs": [
    {
     "data": {
      "text/markdown": [
       "| Boolean Observable  | Description                                                            |\n",
       "|---------------------|------------------------------------------------------------------------|\n",
       "| ObservableBool      | Abstract base class for all observables of underlying type bool        |\n",
       "| Not                 | True if observable is False and vice versa                             |\n",
       "| AndObservable       | True if and only if both observables are True                          |\n",
       "| OrObservable        | True if either or both observable are True                             |\n",
       "| GreaterOrEqualThan  | True if and only if observable1 is greater or equal than observable2   |\n",
       "| GreaterThan         | True if and only if observable1 is strictly greater than observable2   |\n",
       "| At                  | True only at date                                                      |"
      ],
      "text/plain": [
       "<IPython.core.display.Markdown object>"
      ]
     },
     "execution_count": 5,
     "metadata": {},
     "output_type": "execute_result"
    }
   ],
   "source": [
    "Markdown(_boolean_observables_table())"
   ]
  },
  {
   "cell_type": "code",
   "execution_count": 6,
   "id": "7b275e3a-d91b-4041-9dea-2d1e3d787590",
   "metadata": {
    "tags": []
   },
   "outputs": [
    {
     "data": {
      "text/markdown": [
       "| Float Observable | Description                                                                                                                             |\n",
       "|------------------|-----------------------------------------------------------------------------------------------------------------------------------------|\n",
       "| ObservableFloat  | Abstract base class for all observables of underlying type float, essentially a real-valued stochastic process                          |\n",
       "| Sum              | Equal to the sum of two observables                                                                                                     |\n",
       "| Minus            | Negative value of observable                                                                                                            |\n",
       "| Product          | Equal to the product (multiplication) of two observables                                                                                |\n",
       "| Quotient         | Equal to the quotient (division) of two observables                                                                                     |\n",
       "| Power            | Equal to observable1 to the power of observable2                                                                                        |\n",
       "| Maximum          | Equal to the maximum of two observables                                                                                                 |\n",
       "| Minimum          | Equal to the minimum of two observables                                                                                                 |\n",
       "| RunningMax       | Running maximum of observable over time, seen from first_observation_idx.                                                               |\n",
       "| RunningMin       | Running minimum of observable over time, seen from first_observation_idx.                                                               |\n",
       "| FixedAfter       | Equal to observable, but remains constant as soon as fixing_condition becomes true after (including) first_observation_idx.             |\n",
       "| Stock            | Value of the stock identified by identifier                                                                                             |\n",
       "| FX               | Value of the currency spot between base_currency and counter_currency, i.e. 'one unit counter_currency' / 'one unit of base_currency'   |\n",
       "| LinearRate       | Value of the linear rate (e.g. a LIBOR) with payment frequency in currency                                                              |\n",
       "| KonstFloat       | Always equal to constant                                                                                                                |"
      ],
      "text/plain": [
       "<IPython.core.display.Markdown object>"
      ]
     },
     "execution_count": 6,
     "metadata": {},
     "output_type": "execute_result"
    }
   ],
   "source": [
    "Markdown(_float_observables_table(descr_col_width=135))"
   ]
  },
  {
   "cell_type": "markdown",
   "id": "52310ca1-4db2-4e7c-8561-1deffc300e83",
   "metadata": {},
   "source": [
    "### Generate Raw Markdown"
   ]
  },
  {
   "cell_type": "code",
   "execution_count": 7,
   "id": "f6c35a6c-c7dd-413e-b367-72f22bcb1a62",
   "metadata": {
    "tags": []
   },
   "outputs": [
    {
     "name": "stdout",
     "output_type": "stream",
     "text": [
      "| Contract  | Description                                                                                                                                            |\n",
      "|-----------|--------------------------------------------------------------------------------------------------------------------------------------------------------|\n",
      "| Contract  | Abstract base class for all contracts                                                                                                                  |\n",
      "| Zero      | Neither receive nor pay anything                                                                                                                       |\n",
      "| One       | Receive one unit of currency at acquisition                                                                                                            |\n",
      "| Give      | Receive all obligations of the underlying contract and pay all rights, i.e. invert the underlying contract                                             |\n",
      "| And       | Obtain rights and obligations of all underlying contracts                                                                                              |\n",
      "| Or        | Choose at acquisition between the underlying contracts                                                                                                 |\n",
      "| Cond      | If observable is True at acquisition, obtain contract1, otherwise contract2                                                                            |\n",
      "| Scale     | Same as the underling contract, but all payments scaled by the value of observable at acquisition                                                      |\n",
      "| When      | Obtain the underlying contract as soon as observable becomes True after acquisition                                                                    |\n",
      "| Delay     | Obtain the underlying contract and delay all payments to first occurence of observable.                                                                |\n",
      "| Anytime   | At any point in time after acquisition when observable is True, choose whether to obtain the underlying contract or not; can be exercised only once    |\n",
      "| Until     | Obtain the underlying contract, but as soon as observable becomes True after acquisition all following payments are nullified                          |\n",
      "| Exchange  | Exchange cashflows resulting from contract to currency at the current spot rate                                                                        |\n",
      "\n",
      "| Boolean Observable  | Description                                                            |\n",
      "|---------------------|------------------------------------------------------------------------|\n",
      "| ObservableBool      | Abstract base class for all observables of underlying type bool        |\n",
      "| Not                 | True if observable is False and vice versa                             |\n",
      "| AndObservable       | True if and only if both observables are True                          |\n",
      "| OrObservable        | True if either or both observable are True                             |\n",
      "| GreaterOrEqualThan  | True if and only if observable1 is greater or equal than observable2   |\n",
      "| GreaterThan         | True if and only if observable1 is strictly greater than observable2   |\n",
      "| At                  | True only at date                                                      |\n",
      "\n",
      "| Float Observable | Description                                                                                                                             |\n",
      "|------------------|-----------------------------------------------------------------------------------------------------------------------------------------|\n",
      "| ObservableFloat  | Abstract base class for all observables of underlying type float, essentially a real-valued stochastic process                          |\n",
      "| Sum              | Equal to the sum of two observables                                                                                                     |\n",
      "| Minus            | Negative value of observable                                                                                                            |\n",
      "| Product          | Equal to the product (multiplication) of two observables                                                                                |\n",
      "| Quotient         | Equal to the quotient (division) of two observables                                                                                     |\n",
      "| Power            | Equal to observable1 to the power of observable2                                                                                        |\n",
      "| Maximum          | Equal to the maximum of two observables                                                                                                 |\n",
      "| Minimum          | Equal to the minimum of two observables                                                                                                 |\n",
      "| RunningMax       | Running maximum of observable over time, seen from first_observation_idx.                                                               |\n",
      "| RunningMin       | Running minimum of observable over time, seen from first_observation_idx.                                                               |\n",
      "| FixedAfter       | Equal to observable, but remains constant as soon as fixing_condition becomes true after (including) first_observation_idx.             |\n",
      "| Stock            | Value of the stock identified by identifier                                                                                             |\n",
      "| FX               | Value of the currency spot between base_currency and counter_currency, i.e. 'one unit counter_currency' / 'one unit of base_currency'   |\n",
      "| LinearRate       | Value of the linear rate (e.g. a LIBOR) with payment frequency in currency                                                              |\n",
      "| KonstFloat       | Always equal to constant                                                                                                                |\n"
     ]
    }
   ],
   "source": [
    "print(_contracts_table(descr_col_width=150))\n",
    "print()\n",
    "print(_boolean_observables_table())\n",
    "print()\n",
    "print(_float_observables_table(descr_col_width=135))"
   ]
  },
  {
   "cell_type": "markdown",
   "id": "d1193a57-17a2-431c-a90c-83b8eb5bd7cf",
   "metadata": {},
   "source": [
    "### Print Help in the REPL"
   ]
  },
  {
   "cell_type": "code",
   "execution_count": 8,
   "id": "b8557d73-c5e8-41be-a422-62a150068373",
   "metadata": {
    "tags": []
   },
   "outputs": [
    {
     "data": {
      "text/plain": [
       "\u001b[0;31mType:\u001b[0m        module\n",
       "\u001b[0;31mString form:\u001b[0m <module 'mcc' from '/home/luphord/repos/monte-carlo-contracts/mcc/__init__.py'>\n",
       "\u001b[0;31mFile:\u001b[0m        ~/repos/monte-carlo-contracts/mcc/__init__.py\n",
       "\u001b[0;31mDocstring:\u001b[0m  \n",
       "Composable financial contracts with Monte Carlo valuation\n",
       "\n",
       "\n",
       "| Contract  | Description                                                                      |\n",
       "|-----------|----------------------------------------------------------------------------------|\n",
       "| Contract  | Abstract base class for all contracts                                            |\n",
       "| Zero      | Neither receive nor pay anything                                                 |\n",
       "| One       | Receive one unit of currency at acquisition                                      |\n",
       "| Give      | Receive all obligations of the underlying contract and pay all rights, i.e. inve |\n",
       "| And       | Obtain rights and obligations of all underlying contracts                        |\n",
       "| Or        | Choose at acquisition between the underlying contracts                           |\n",
       "| Cond      | If observable is True at acquisition, obtain contract1, otherwise contract2      |\n",
       "| Scale     | Same as the underling contract, but all payments scaled by the value of observab |\n",
       "| When      | Obtain the underlying contract as soon as observable becomes True after acquisit |\n",
       "| Delay     | Obtain the underlying contract and delay all payments to first occurence of obse |\n",
       "| Anytime   | At any point in time after acquisition when observable is True, choose whether t |\n",
       "| Until     | Obtain the underlying contract, but as soon as observable becomes True after acq |\n",
       "| Exchange  | Exchange cashflows resulting from contract to currency at the current spot rate  |\n",
       "\n",
       "| Boolean Observable  | Description                                                            |\n",
       "|---------------------|------------------------------------------------------------------------|\n",
       "| ObservableBool      | Abstract base class for all observables of underlying type bool        |\n",
       "| Not                 | True if observable is False and vice versa                             |\n",
       "| AndObservable       | True if and only if both observables are True                          |\n",
       "| OrObservable        | True if either or both observable are True                             |\n",
       "| GreaterOrEqualThan  | True if and only if observable1 is greater or equal than observable2   |\n",
       "| GreaterThan         | True if and only if observable1 is strictly greater than observable2   |\n",
       "| At                  | True only at date                                                      |\n",
       "\n",
       "| Float Observable | Description                                                            |\n",
       "|------------------|------------------------------------------------------------------------|\n",
       "| ObservableFloat  | Abstract base class for all observables of underlying type float, esse |\n",
       "| Sum              | Equal to the sum of two observables                                    |\n",
       "| Minus            | Negative value of observable                                           |\n",
       "| Product          | Equal to the product (multiplication) of two observables               |\n",
       "| Quotient         | Equal to the quotient (division) of two observables                    |\n",
       "| Power            | Equal to observable1 to the power of observable2                       |\n",
       "| Maximum          | Equal to the maximum of two observables                                |\n",
       "| Minimum          | Equal to the minimum of two observables                                |\n",
       "| RunningMax       | Running maximum of observable over time, seen from first_observation_i |\n",
       "| RunningMin       | Running minimum of observable over time, seen from first_observation_i |\n",
       "| FixedAfter       | Equal to observable, but remains constant as soon as fixing_condition  |\n",
       "| Stock            | Value of the stock identified by identifier                            |\n",
       "| FX               | Value of the currency spot between base_currency and counter_currency, |\n",
       "| LinearRate       | Value of the linear rate (e.g. a LIBOR) with payment frequency in curr |\n",
       "| KonstFloat       | Always equal to constant                                               |\n"
      ]
     },
     "metadata": {},
     "output_type": "display_data"
    }
   ],
   "source": [
    "?mcc"
   ]
  }
 ],
 "metadata": {
  "kernelspec": {
   "display_name": "Python 3 (ipykernel)",
   "language": "python",
   "name": "python3"
  },
  "language_info": {
   "codemirror_mode": {
    "name": "ipython",
    "version": 3
   },
   "file_extension": ".py",
   "mimetype": "text/x-python",
   "name": "python",
   "nbconvert_exporter": "python",
   "pygments_lexer": "ipython3",
   "version": "3.8.13"
  }
 },
 "nbformat": 4,
 "nbformat_minor": 5
}
