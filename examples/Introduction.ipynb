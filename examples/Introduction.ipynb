{
 "cells": [
  {
   "cell_type": "markdown",
   "id": "8e266048-f06e-405b-bd85-6a245ee17f17",
   "metadata": {
    "tags": []
   },
   "source": [
    "# Introduction to Monte Carlo Contracts\n",
    "\n",
    "Python package [Monte Carlo Contracts](https://github.com/luphord/monte-carlo-contracts) provides composable financial contracts with Monte Carlo valuation.\n",
    "This library employs ideas from [How to Write a Financial Contract](https://citeseerx.ist.psu.edu/viewdoc/summary?doi=10.1.1.14.7885) by S. L. Peyton Jones and J-M. Eber.\n",
    "The core idea is that complex structured financial products can be *composed from a small set of elementary contracts*.\n",
    "There are three central concepts to be understood:\n",
    "\n",
    "1. Composable contracts\n",
    "2. Observables\n",
    "3. Acquisition dates"
   ]
  },
  {
   "cell_type": "code",
   "execution_count": 1,
   "id": "cf9bccb5-d383-43b8-9648-b10cc255c650",
   "metadata": {
    "tags": []
   },
   "outputs": [],
   "source": [
    "import mcc"
   ]
  },
  {
   "cell_type": "code",
   "execution_count": 2,
   "id": "08f40f76-8364-4c0a-9e76-7f741f096634",
   "metadata": {
    "tags": []
   },
   "outputs": [],
   "source": [
    "from mcc import _contracts_table, _boolean_observables_table, _float_observables_table"
   ]
  },
  {
   "cell_type": "code",
   "execution_count": 3,
   "id": "190d440d-015c-4c83-8ca0-704eb295858b",
   "metadata": {
    "tags": []
   },
   "outputs": [],
   "source": [
    "from IPython.display import display, Markdown"
   ]
  },
  {
   "cell_type": "markdown",
   "id": "6bea2671-701e-457d-bd2d-88bfb613381d",
   "metadata": {
    "tags": []
   },
   "source": [
    "## Composable Contracts\n",
    "\n",
    "Composable contracts are the elementary building blocks for complex structured financial products.\n",
    "In this Python library, all contracts are represented as classes deriving from abstract base class `Contract`.\n",
    "The following contracts are available:"
   ]
  },
  {
   "cell_type": "code",
   "execution_count": 4,
   "id": "70eb6a68-3d87-4c50-82dd-b0c9df613e57",
   "metadata": {},
   "outputs": [
    {
     "data": {
      "text/markdown": [
       "| Contract  | Description                                                                                                                                            |\n",
       "|-----------|--------------------------------------------------------------------------------------------------------------------------------------------------------|\n",
       "| Contract  | Abstract base class for all contracts                                                                                                                  |\n",
       "| Zero      | Neither receive nor pay anything                                                                                                                       |\n",
       "| One       | Receive one unit of currency at acquisition                                                                                                            |\n",
       "| Give      | Receive all obligations of the underlying contract and pay all rights, i.e. invert the underlying contract                                             |\n",
       "| And       | Obtain rights and obligations of all underlying contracts                                                                                              |\n",
       "| Or        | Choose at acquisition between the underlying contracts                                                                                                 |\n",
       "| Cond      | If observable is True at acquisition, obtain contract1, otherwise contract2                                                                            |\n",
       "| Scale     | Same as the underling contract, but all payments scaled by the value of observable at acquisition                                                      |\n",
       "| When      | Obtain the underlying contract as soon as observable becomes True after acquisition                                                                    |\n",
       "| Delay     | Obtain the underlying contract and delay all payments to first occurence of observable.                                                                |\n",
       "| Anytime   | At any point in time after acquisition when observable is True, choose whether to obtain the underlying contract or not; can be exercised only once    |\n",
       "| Until     | Obtain the underlying contract, but as soon as observable becomes True after acquisition all following payments are nullified                          |\n",
       "| Exchange  | Exchange cashflows resulting from contract to currency at the current spot rate                                                                        |"
      ],
      "text/plain": [
       "<IPython.core.display.Markdown object>"
      ]
     },
     "execution_count": 4,
     "metadata": {},
     "output_type": "execute_result"
    }
   ],
   "source": [
    "Markdown(_contracts_table(descr_col_width=150))"
   ]
  },
  {
   "cell_type": "code",
   "execution_count": 5,
   "id": "0246cf3a-b768-4637-99f3-562fdaacbea2",
   "metadata": {
    "tags": []
   },
   "outputs": [],
   "source": [
    "from mcc import (\n",
    "    Contract,\n",
    "    Zero,\n",
    "    One,\n",
    "    Give,\n",
    "    And,\n",
    "    Or,\n",
    "    Cond,\n",
    "    Scale,\n",
    "    When,\n",
    "    Delay,\n",
    "    Anytime,\n",
    "    Until,\n",
    "    Exchange,\n",
    ")"
   ]
  },
  {
   "cell_type": "markdown",
   "id": "38bbf60a-f865-494f-9ffc-66f00607e38f",
   "metadata": {},
   "source": [
    "For example, the contract to exchange 1 EUR for 1 USD would be created as"
   ]
  },
  {
   "cell_type": "code",
   "execution_count": 6,
   "id": "fe500778-044c-4cf5-adee-91c3a18fab46",
   "metadata": {
    "tags": []
   },
   "outputs": [
    {
     "data": {
      "text/plain": [
       "And(contracts=[Give(contract=One(currency='EUR')), One(currency='USD')])"
      ]
     },
     "execution_count": 6,
     "metadata": {},
     "output_type": "execute_result"
    }
   ],
   "source": [
    "And(Give(One(\"EUR\")), One(\"USD\"))"
   ]
  },
  {
   "cell_type": "markdown",
   "id": "18b3659d-2ef4-4021-8d08-454c5c6d6600",
   "metadata": {},
   "source": [
    "With a bit of **syntactic sugar**, the same contract can be expressed as"
   ]
  },
  {
   "cell_type": "code",
   "execution_count": 7,
   "id": "7e290d9e-c916-41fb-9e3d-c2c8345ef94b",
   "metadata": {
    "tags": []
   },
   "outputs": [
    {
     "data": {
      "text/plain": [
       "And(contracts=[Give(contract=One(currency='EUR')), One(currency='USD')])"
      ]
     },
     "execution_count": 7,
     "metadata": {},
     "output_type": "execute_result"
    }
   ],
   "source": [
    "-One(\"EUR\") + One(\"USD\")"
   ]
  },
  {
   "cell_type": "markdown",
   "id": "c36e6529-c555-430b-b5b9-7441ac9c8e1d",
   "metadata": {},
   "source": [
    "Of course, you can write **functions generating contracts** based on their arguments:"
   ]
  },
  {
   "cell_type": "code",
   "execution_count": 8,
   "id": "2ff536f1-3a28-477a-b441-1c7b67d10adf",
   "metadata": {
    "tags": []
   },
   "outputs": [],
   "source": [
    "def exchange_coins(give_currency: str, receive_currency: str) -> Contract:\n",
    "    return -One(give_currency) + One(receive_currency)"
   ]
  },
  {
   "cell_type": "code",
   "execution_count": 9,
   "id": "51fdb27d-0e08-4556-83ce-a1c2e6a017de",
   "metadata": {
    "tags": []
   },
   "outputs": [
    {
     "data": {
      "text/plain": [
       "And(contracts=[Give(contract=One(currency='EUR')), One(currency='USD')])"
      ]
     },
     "execution_count": 9,
     "metadata": {},
     "output_type": "execute_result"
    }
   ],
   "source": [
    "exchange_coins(\"EUR\", \"USD\")"
   ]
  },
  {
   "cell_type": "markdown",
   "id": "8d5031e2-3092-4e16-9e53-eba3fb59896b",
   "metadata": {},
   "source": [
    "In order to build more complex structures, you may also want to create **classes holding parameters for contract generation**.\n",
    "In this case, you may want to implement the `ResolvableContract` abstract base class."
   ]
  },
  {
   "cell_type": "code",
   "execution_count": 10,
   "id": "20821a9a-cc5b-44df-8331-c75d92a134d9",
   "metadata": {
    "tags": []
   },
   "outputs": [],
   "source": [
    "from dataclasses import dataclass\n",
    "from mcc import ResolvableContract"
   ]
  },
  {
   "cell_type": "code",
   "execution_count": 11,
   "id": "acea6053-005e-46bc-a1ab-e03717e6f8d9",
   "metadata": {
    "tags": []
   },
   "outputs": [],
   "source": [
    "@dataclass\n",
    "class ExchangeCoins(ResolvableContract):\n",
    "    give_currency: str\n",
    "    receive_currency: str\n",
    "\n",
    "    def resolve(self):\n",
    "        return -One(self.give_currency) + One(self.receive_currency)"
   ]
  },
  {
   "cell_type": "code",
   "execution_count": 12,
   "id": "255396a9-5fa1-4587-856e-87fbac443455",
   "metadata": {
    "tags": []
   },
   "outputs": [
    {
     "data": {
      "text/plain": [
       "ExchangeCoins(give_currency='EUR', receive_currency='USD')"
      ]
     },
     "execution_count": 12,
     "metadata": {},
     "output_type": "execute_result"
    }
   ],
   "source": [
    "ExchangeCoins(\"EUR\", \"USD\")"
   ]
  },
  {
   "cell_type": "code",
   "execution_count": 13,
   "id": "c941728a-c677-4b06-b381-c3eff495f97d",
   "metadata": {
    "tags": []
   },
   "outputs": [
    {
     "data": {
      "text/plain": [
       "And(contracts=[Give(contract=One(currency='EUR')), One(currency='USD')])"
      ]
     },
     "execution_count": 13,
     "metadata": {},
     "output_type": "execute_result"
    }
   ],
   "source": [
    "ExchangeCoins(\"EUR\", \"USD\").resolve()"
   ]
  },
  {
   "cell_type": "markdown",
   "id": "baf0b3e7-67b2-4824-950c-d95e22f9c56d",
   "metadata": {},
   "source": [
    "Contracts allow you to define what cashflows are part of a product.\n",
    "However, contracts on their own cannot express things like paying an amount of money determined by the closing price of a stock.\n",
    "For that, you need *observables*."
   ]
  },
  {
   "cell_type": "markdown",
   "id": "e2248fa7-5bf9-4462-b0ed-1bbf6a48ff4b",
   "metadata": {
    "tags": []
   },
   "source": [
    "## Observables"
   ]
  },
  {
   "cell_type": "code",
   "execution_count": 14,
   "id": "54522323-b2e3-4786-9297-f1d91f4facae",
   "metadata": {
    "tags": []
   },
   "outputs": [
    {
     "data": {
      "text/markdown": [
       "| Boolean Observable  | Description                                                            |\n",
       "|---------------------|------------------------------------------------------------------------|\n",
       "| ObservableBool      | Abstract base class for all observables of underlying type bool        |\n",
       "| Not                 | True if observable is False and vice versa                             |\n",
       "| AndObservable       | True if and only if both observables are True                          |\n",
       "| OrObservable        | True if either or both observable are True                             |\n",
       "| GreaterOrEqualThan  | True if and only if observable1 is greater or equal than observable2   |\n",
       "| GreaterThan         | True if and only if observable1 is strictly greater than observable2   |\n",
       "| At                  | True only at date                                                      |"
      ],
      "text/plain": [
       "<IPython.core.display.Markdown object>"
      ]
     },
     "execution_count": 14,
     "metadata": {},
     "output_type": "execute_result"
    }
   ],
   "source": [
    "Markdown(_boolean_observables_table())"
   ]
  },
  {
   "cell_type": "code",
   "execution_count": 15,
   "id": "7b275e3a-d91b-4041-9dea-2d1e3d787590",
   "metadata": {
    "tags": []
   },
   "outputs": [
    {
     "data": {
      "text/markdown": [
       "| Float Observable | Description                                                                                                                             |\n",
       "|------------------|-----------------------------------------------------------------------------------------------------------------------------------------|\n",
       "| ObservableFloat  | Abstract base class for all observables of underlying type float, essentially a real-valued stochastic process                          |\n",
       "| Sum              | Equal to the sum of two observables                                                                                                     |\n",
       "| Minus            | Negative value of observable                                                                                                            |\n",
       "| Product          | Equal to the product (multiplication) of two observables                                                                                |\n",
       "| Quotient         | Equal to the quotient (division) of two observables                                                                                     |\n",
       "| Power            | Equal to observable1 to the power of observable2                                                                                        |\n",
       "| Maximum          | Equal to the maximum of two observables                                                                                                 |\n",
       "| Minimum          | Equal to the minimum of two observables                                                                                                 |\n",
       "| RunningMax       | Running maximum of observable over time, seen from first_observation_idx.                                                               |\n",
       "| RunningMin       | Running minimum of observable over time, seen from first_observation_idx.                                                               |\n",
       "| FixedAfter       | Equal to observable, but remains constant as soon as fixing_condition becomes true after (including) first_observation_idx.             |\n",
       "| Stock            | Value of the stock identified by identifier                                                                                             |\n",
       "| FX               | Value of the currency spot between base_currency and counter_currency, i.e. 'one unit counter_currency' / 'one unit of base_currency'   |\n",
       "| LinearRate       | Value of the linear rate (e.g. a LIBOR) with payment frequency in currency                                                              |\n",
       "| KonstFloat       | Always equal to constant                                                                                                                |"
      ],
      "text/plain": [
       "<IPython.core.display.Markdown object>"
      ]
     },
     "execution_count": 15,
     "metadata": {},
     "output_type": "execute_result"
    }
   ],
   "source": [
    "Markdown(_float_observables_table(descr_col_width=135))"
   ]
  },
  {
   "cell_type": "markdown",
   "id": "2336565b-de0b-4fdd-8442-e0c4e2c81df6",
   "metadata": {
    "tags": []
   },
   "source": [
    "## Acquisition Dates"
   ]
  },
  {
   "cell_type": "markdown",
   "id": "b60b7431-1fb9-4b07-8177-028a20d6dadf",
   "metadata": {},
   "source": [
    "## Displaying Help"
   ]
  },
  {
   "cell_type": "markdown",
   "id": "d1193a57-17a2-431c-a90c-83b8eb5bd7cf",
   "metadata": {},
   "source": [
    "### Print Help in the REPL"
   ]
  },
  {
   "cell_type": "code",
   "execution_count": 16,
   "id": "b8557d73-c5e8-41be-a422-62a150068373",
   "metadata": {
    "tags": []
   },
   "outputs": [
    {
     "data": {
      "text/plain": [
       "\u001b[0;31mType:\u001b[0m        module\n",
       "\u001b[0;31mString form:\u001b[0m <module 'mcc' from '/home/luphord/repos/monte-carlo-contracts/mcc/__init__.py'>\n",
       "\u001b[0;31mFile:\u001b[0m        ~/repos/monte-carlo-contracts/mcc/__init__.py\n",
       "\u001b[0;31mDocstring:\u001b[0m  \n",
       "Composable financial contracts with Monte Carlo valuation\n",
       "\n",
       "\n",
       "| Contract  | Description                                                                      |\n",
       "|-----------|----------------------------------------------------------------------------------|\n",
       "| Contract  | Abstract base class for all contracts                                            |\n",
       "| Zero      | Neither receive nor pay anything                                                 |\n",
       "| One       | Receive one unit of currency at acquisition                                      |\n",
       "| Give      | Receive all obligations of the underlying contract and pay all rights, i.e. inve |\n",
       "| And       | Obtain rights and obligations of all underlying contracts                        |\n",
       "| Or        | Choose at acquisition between the underlying contracts                           |\n",
       "| Cond      | If observable is True at acquisition, obtain contract1, otherwise contract2      |\n",
       "| Scale     | Same as the underling contract, but all payments scaled by the value of observab |\n",
       "| When      | Obtain the underlying contract as soon as observable becomes True after acquisit |\n",
       "| Delay     | Obtain the underlying contract and delay all payments to first occurence of obse |\n",
       "| Anytime   | At any point in time after acquisition when observable is True, choose whether t |\n",
       "| Until     | Obtain the underlying contract, but as soon as observable becomes True after acq |\n",
       "| Exchange  | Exchange cashflows resulting from contract to currency at the current spot rate  |\n",
       "\n",
       "| Boolean Observable  | Description                                                            |\n",
       "|---------------------|------------------------------------------------------------------------|\n",
       "| ObservableBool      | Abstract base class for all observables of underlying type bool        |\n",
       "| Not                 | True if observable is False and vice versa                             |\n",
       "| AndObservable       | True if and only if both observables are True                          |\n",
       "| OrObservable        | True if either or both observable are True                             |\n",
       "| GreaterOrEqualThan  | True if and only if observable1 is greater or equal than observable2   |\n",
       "| GreaterThan         | True if and only if observable1 is strictly greater than observable2   |\n",
       "| At                  | True only at date                                                      |\n",
       "\n",
       "| Float Observable | Description                                                            |\n",
       "|------------------|------------------------------------------------------------------------|\n",
       "| ObservableFloat  | Abstract base class for all observables of underlying type float, esse |\n",
       "| Sum              | Equal to the sum of two observables                                    |\n",
       "| Minus            | Negative value of observable                                           |\n",
       "| Product          | Equal to the product (multiplication) of two observables               |\n",
       "| Quotient         | Equal to the quotient (division) of two observables                    |\n",
       "| Power            | Equal to observable1 to the power of observable2                       |\n",
       "| Maximum          | Equal to the maximum of two observables                                |\n",
       "| Minimum          | Equal to the minimum of two observables                                |\n",
       "| RunningMax       | Running maximum of observable over time, seen from first_observation_i |\n",
       "| RunningMin       | Running minimum of observable over time, seen from first_observation_i |\n",
       "| FixedAfter       | Equal to observable, but remains constant as soon as fixing_condition  |\n",
       "| Stock            | Value of the stock identified by identifier                            |\n",
       "| FX               | Value of the currency spot between base_currency and counter_currency, |\n",
       "| LinearRate       | Value of the linear rate (e.g. a LIBOR) with payment frequency in curr |\n",
       "| KonstFloat       | Always equal to constant                                               |\n"
      ]
     },
     "metadata": {},
     "output_type": "display_data"
    }
   ],
   "source": [
    "?mcc"
   ]
  },
  {
   "cell_type": "markdown",
   "id": "b81d0950-dbcd-4819-9e0e-423df2a6633d",
   "metadata": {},
   "source": [
    "### Generate Raw Markdown"
   ]
  },
  {
   "cell_type": "code",
   "execution_count": 17,
   "id": "f6c35a6c-c7dd-413e-b367-72f22bcb1a62",
   "metadata": {
    "tags": []
   },
   "outputs": [
    {
     "name": "stdout",
     "output_type": "stream",
     "text": [
      "| Contract  | Description                                                                                                                                            |\n",
      "|-----------|--------------------------------------------------------------------------------------------------------------------------------------------------------|\n",
      "| Contract  | Abstract base class for all contracts                                                                                                                  |\n",
      "| Zero      | Neither receive nor pay anything                                                                                                                       |\n",
      "| One       | Receive one unit of currency at acquisition                                                                                                            |\n",
      "| Give      | Receive all obligations of the underlying contract and pay all rights, i.e. invert the underlying contract                                             |\n",
      "| And       | Obtain rights and obligations of all underlying contracts                                                                                              |\n",
      "| Or        | Choose at acquisition between the underlying contracts                                                                                                 |\n",
      "| Cond      | If observable is True at acquisition, obtain contract1, otherwise contract2                                                                            |\n",
      "| Scale     | Same as the underling contract, but all payments scaled by the value of observable at acquisition                                                      |\n",
      "| When      | Obtain the underlying contract as soon as observable becomes True after acquisition                                                                    |\n",
      "| Delay     | Obtain the underlying contract and delay all payments to first occurence of observable.                                                                |\n",
      "| Anytime   | At any point in time after acquisition when observable is True, choose whether to obtain the underlying contract or not; can be exercised only once    |\n",
      "| Until     | Obtain the underlying contract, but as soon as observable becomes True after acquisition all following payments are nullified                          |\n",
      "| Exchange  | Exchange cashflows resulting from contract to currency at the current spot rate                                                                        |\n",
      "\n",
      "| Boolean Observable  | Description                                                            |\n",
      "|---------------------|------------------------------------------------------------------------|\n",
      "| ObservableBool      | Abstract base class for all observables of underlying type bool        |\n",
      "| Not                 | True if observable is False and vice versa                             |\n",
      "| AndObservable       | True if and only if both observables are True                          |\n",
      "| OrObservable        | True if either or both observable are True                             |\n",
      "| GreaterOrEqualThan  | True if and only if observable1 is greater or equal than observable2   |\n",
      "| GreaterThan         | True if and only if observable1 is strictly greater than observable2   |\n",
      "| At                  | True only at date                                                      |\n",
      "\n",
      "| Float Observable | Description                                                                                                                             |\n",
      "|------------------|-----------------------------------------------------------------------------------------------------------------------------------------|\n",
      "| ObservableFloat  | Abstract base class for all observables of underlying type float, essentially a real-valued stochastic process                          |\n",
      "| Sum              | Equal to the sum of two observables                                                                                                     |\n",
      "| Minus            | Negative value of observable                                                                                                            |\n",
      "| Product          | Equal to the product (multiplication) of two observables                                                                                |\n",
      "| Quotient         | Equal to the quotient (division) of two observables                                                                                     |\n",
      "| Power            | Equal to observable1 to the power of observable2                                                                                        |\n",
      "| Maximum          | Equal to the maximum of two observables                                                                                                 |\n",
      "| Minimum          | Equal to the minimum of two observables                                                                                                 |\n",
      "| RunningMax       | Running maximum of observable over time, seen from first_observation_idx.                                                               |\n",
      "| RunningMin       | Running minimum of observable over time, seen from first_observation_idx.                                                               |\n",
      "| FixedAfter       | Equal to observable, but remains constant as soon as fixing_condition becomes true after (including) first_observation_idx.             |\n",
      "| Stock            | Value of the stock identified by identifier                                                                                             |\n",
      "| FX               | Value of the currency spot between base_currency and counter_currency, i.e. 'one unit counter_currency' / 'one unit of base_currency'   |\n",
      "| LinearRate       | Value of the linear rate (e.g. a LIBOR) with payment frequency in currency                                                              |\n",
      "| KonstFloat       | Always equal to constant                                                                                                                |\n"
     ]
    }
   ],
   "source": [
    "print(_contracts_table(descr_col_width=150))\n",
    "print()\n",
    "print(_boolean_observables_table())\n",
    "print()\n",
    "print(_float_observables_table(descr_col_width=135))"
   ]
  }
 ],
 "metadata": {
  "kernelspec": {
   "display_name": "Python 3 (ipykernel)",
   "language": "python",
   "name": "python3"
  },
  "language_info": {
   "codemirror_mode": {
    "name": "ipython",
    "version": 3
   },
   "file_extension": ".py",
   "mimetype": "text/x-python",
   "name": "python",
   "nbconvert_exporter": "python",
   "pygments_lexer": "ipython3",
   "version": "3.8.13"
  }
 },
 "nbformat": 4,
 "nbformat_minor": 5
}
